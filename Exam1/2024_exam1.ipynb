{
 "cells": [
  {
   "cell_type": "markdown",
   "metadata": {
    "id": "qtXl0ASQ6dFh"
   },
   "source": [
    "# **Télédétection et enjeux régionaux**\n",
    "## Volet Appport de l'intelligence artificielle en géomatique\n",
    "## CONTROLE ECRIT \n",
    "**Année universitaire 2024-25, 1 heure, documents non autorisés**\n",
    "\n",
    "---"
   ]
  },
  {
   "cell_type": "markdown",
   "metadata": {
    "id": "W4yyefqm6sxD"
   },
   "source": [
    "\n",
    "### A. ASPECTS GÉNÉRAUX de l'IA et du Machine Learning (4 pts)\n",
    "\n",
    "**Question A.1 :** (2 pt)\n",
    "\n",
    "- Définissez le Machine Learning et expliquez en quoi il diffère de la programmation traditionnelle.\n",
    "\n",
    "**Question A.2 :** (2 pt)\n",
    "\n",
    "- Quelles sont les principales différences entre l'apprentissage supervisé et l'apprentissage non supervisé dans le domaine du Machine Learning ?"
   ]
  },
  {
   "cell_type": "markdown",
   "metadata": {},
   "source": [
    "### B. Deep Learning et Géomatique (6 pts)\n",
    "\n",
    "**Question B.1 :** (2 pt)\n",
    "\n",
    "- En quoi se distingue le Deep Learning du Machine Learning classique ?\n",
    "\n",
    "**Question B.2 :** (4 pts)\n",
    "\n",
    "- Nommez trois applications du Deep Learning dans le domaine de la télédétection (ou la géomatique). \n",
    "- Justifiez l'apport de cette technologie ou pourquoi elle peut être considérée comme une technologie clé pour une de ces 3 applications."
   ]
  },
  {
   "cell_type": "markdown",
   "metadata": {},
   "source": [
    "### C. ASPECTS APPLIQUES (10 pts)\n",
    "\n",
    "Questions relatives au travaux pratiques réalisés dans ce cours (TP).\n",
    "Le code ci-dessous (très proche de celui du TP1 de classification d'images) peut vous aider à construire vos réponses aux questions."
   ]
  },
  {
   "cell_type": "code",
   "execution_count": null,
   "metadata": {},
   "outputs": [],
   "source": [
    "import fastai\n",
    "from fastai.vision.all import untar_data, Path\n",
    "from fastai.vision.all import DataBlock, ImageBlock, CategoryBlock, RandomSplitter\n",
    "from fastai.vision.all import get_image_files, aug_transforms\n",
    "from fastai.vision.all import vision_learner, resnet50, accuracy\n",
    "nb_epochs = 3\n",
    "\n",
    "path = untar_data('http://madm.dfki.de/files/sentinel/EuroSAT.zip')\n",
    "Path.BASE_PATH = path\n",
    "\n",
    "def label_func(fname):\n",
    "    nature_classes = ['Forest', 'River', 'AnnualCrop', 'HerbaceousVegetation', 'PermanentCrop', 'SeaLake', 'Pasture']\n",
    "    if any(nc in fname.name for nc in nature_classes):\n",
    "        return 'Nature'\n",
    "    else:\n",
    "        return 'Human'\n",
    "\n",
    "blocks = DataBlock(\n",
    "  blocks = (ImageBlock, CategoryBlock),               \n",
    "  get_items = get_image_files,                        \n",
    "  splitter = RandomSplitter(valid_pct=0.2, seed=0),   \n",
    "  get_y = label_func,                                \n",
    "  batch_tfms = aug_transforms(mult=2)                 \n",
    ")\n",
    "dataloader = blocks.dataloaders(path)\n",
    "dataloader.train.show_batch(nrows=3, unique=True)\n",
    "\n",
    "model = vision_learner(dataloader, resnet50, metrics=accuracy)\n",
    "model.fine_tune(nb_epochs)\n",
    "model.export('model.pkl')"
   ]
  },
  {
   "cell_type": "markdown",
   "metadata": {},
   "source": [
    "**Question C. 1 - Compréhension de l’utilisation des modèles :** (2 pts)\n",
    "\n",
    "- Utilise t'on un modèle pré-entraînés dans le code fourni (justifiez) ?\n",
    "- Quel est l’objectif de l’utilisation des modèles pré-entraînés ?\n",
    "\n",
    "**Question C.2 - Compréhension du processus de préparation des données :** (4 pts)\n",
    "\n",
    "- Expliquez l'intérêt de la fonction `aug_transforms` (augmentations de données) de la fonction du `DataBlock` dans `fastai`.\n",
    "- Expliquez l'intérêt de la fonction `label_func` (extraction des labels des données) de la fonction du `DataBlock` dans `fastai`.\n",
    "\n",
    "**Question C.3 - Compréhension du paramètrage d'entrainement du modèle :** (2 pts)\n",
    "\n",
    "- Quel est l'ordre de grandeur du nombre de paramètres du réseau utilisé dans notre TP de classifiaction d'image ([100 - 1000], [1000 - 10 000], [10 000 - 100 000], [1 million - 5 millions], [10 millions - 50 millions]) ?\n",
    "- Quel est l'ordre de grandeur des paramètres entrainés dans notre TP ([100 - 1000], [1000 - 10 000], [10 000 - 100 000], [1 million - 5 millions], [10 millions - 50 millions]) ? \n",
    "\n",
    "**Question C.4 - Compréhension du mécanisme d'apprentissage :** (2 pts)\n",
    "\n",
    "- Qu’est-ce qu’une “epoch” dans le contexte de l’entraînement d’un modèle de Deep Learning ?"
   ]
  }
 ],
 "metadata": {
  "accelerator": "GPU",
  "colab": {
   "gpuType": "T4",
   "provenance": [],
   "toc_visible": true
  },
  "kernelspec": {
   "display_name": "Python 3",
   "name": "python3"
  },
  "language_info": {
   "codemirror_mode": {
    "name": "ipython",
    "version": 3
   },
   "file_extension": ".py",
   "mimetype": "text/x-python",
   "name": "python",
   "nbconvert_exporter": "python",
   "pygments_lexer": "ipython3",
   "version": "3.9.6"
  }
 },
 "nbformat": 4,
 "nbformat_minor": 0
}
