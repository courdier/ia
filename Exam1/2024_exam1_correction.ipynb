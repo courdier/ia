{
 "cells": [
  {
   "cell_type": "markdown",
   "metadata": {
    "id": "qtXl0ASQ6dFh"
   },
   "source": [
    "# **Télédétection et enjeux régionaux**\n",
    "## Volet Appport de l'intelligence artificielle en géomatique\n",
    "## CONTROLE ECRIT - CORRECTION\n",
    "**Année universitaire 2024-25, 1 heure, documents non autorisés**\n",
    "\n",
    "---"
   ]
  },
  {
   "cell_type": "markdown",
   "metadata": {
    "id": "W4yyefqm6sxD"
   },
   "source": [
    "\n",
    "### A. ASPECTS GÉNÉRAUX de l'IA et du Machine Learning (4 pts)\n",
    "\n",
    "**Question A.1 :** (2 pt)\n",
    "\n",
    "- Définissez le Machine Learning et expliquez en quoi il diffère de la programmation traditionnelle.\n",
    "\n",
    "**Question A.2 :** (2 pt)\n",
    "\n",
    "- Quelles sont les principales différences entre l'apprentissage supervisé et l'apprentissage non supervisé dans le domaine du Machine Learning ?"
   ]
  },
  {
   "cell_type": "markdown",
   "metadata": {},
   "source": [
    "### A. CORRECTION\n",
    "\n",
    "**Réponse à la Question A.1 :**\n",
    "\n",
    "- Le Machine Learning est un domaine de l'intelligence artificielle qui développe des algorithmes capables d'apprendre à partir de données. Contrairement à la programmation traditionnelle, où le comportement est explicitement codé, le Machine Learning permet aux algorithmes de découvrir des patterns et de prendre des décisions basées sur les données.\n",
    "\n",
    "**Réponse à la Question 2 :**\n",
    "\n",
    "- L'apprentissage supervisé utilise des données étiquetées pour entraîner des modèles et requiert donc la présence d'une vérité terrain, tandis que l'apprentissage non supervisé travaille avec des données non étiquetées, cherchant à identifier des patterns ou des structures sans directives spécifiques. Les méthodes d'apprentissage non-supervisé, se libèrent donc de la contrainte de la vérité terrain. Pour ces méthodes la phase d'apprentissage consiste à analyser les propriétés des données les unes par rapport aux autres. Il peut s'agir de la distance entre les données, d'un calcul de densité ou de rechercher une les paramètres d'une loi de probabilité spécifique représentant au mieux les données. Les données d'apprentissage fournissent ainsi une base pour mieux comprendre les futures données."
   ]
  },
  {
   "cell_type": "markdown",
   "metadata": {},
   "source": [
    "### B. Deep Learning et Géomatique (6 pts)\n",
    "\n",
    "**Question B.1 :** (2 pt)\n",
    "\n",
    "- En quoi se distingue le Deep Learning du Machine Learning classique ?\n",
    "\n",
    "**Question B.2 :** (4 pts)\n",
    "\n",
    "- Nommez trois applications du Deep Learning dans le domaine de la télédétection (ou la géomatique). \n",
    "- Justifiez l'apport de cette technologie ou pourquoi elle peut être considérée comme une technologie clé pour une de ces 3 applications."
   ]
  },
  {
   "cell_type": "markdown",
   "metadata": {},
   "source": [
    "### B. CORRECTION\n",
    "\n",
    "**Réponse question B.1**\n",
    "\n",
    "- Le \"Machine Learning\" et le \"Deep Learning\" sont deux domaines de l'intelligence artificielle. \n",
    "Les deux domaines s'appuient sur l'utilisation de données pour entraîner des modèles informatiques à effectuer des tâches sans programmation explicite pour chaque situation. \n",
    "Le deep learning est une extension du machine learning avec des capacités plus avancées, il se concentre sur des réseaux de neurones avec de nombreuses couches (d'où le terme \"profond\"), permettant de construire des représentations abstraites et hiérarchiques des données. Il est particulièrement efficace pour traiter de grands volumes de données et est souvent utilisé pour des tâches complexes telles que la reconnaissance vocale, la vision par ordinateur et le traitement d'iamge et du langage naturel. Pour cela, il utilise des modèles plus complexes  par rapport aux modèles plus simples du machine learning, nécessite généralement de plus grandes quantités de données pour être efficace et requiert   souvent plus de puissance de calcul.\n",
    "\n",
    "**Réponse à la Question B.2 :**\n",
    "\n",
    "- le Deep Learning permet de transformer des données géospatiales complexes et massives en informations utiles, précises et exploitables, et ce, de manière rapide et automatisée, ce qui en fait une technologie incontournable pour la géomatique moderne. Voici trois applications du Deep Learning en télédétection : la classification d'images satellitaires, la détection et le comptage d'objets, la segmentation sémantique ([pour d'autres application cf. le cours ici](https://courdier.github.io/ia/slides/intro.html#p43))\n",
    "- Comme on l'a vu en TP, le Deep Learning permet d’automatiser la classification d'images satellitaires. Cette technologie peut être utilisée pour identifier différents types de sols, de végétation, ou d’occupation du sol à partir de données satellitaires. Cette capacité à distinguer et classifier très rapidement et avec un très haut niveau de confiance des objets ou des zones spécifiques est essentielle pour des applications en urbanisme, en agriculture, ou en gestion des écosystèmes."
   ]
  },
  {
   "cell_type": "markdown",
   "metadata": {},
   "source": [
    "### C. ASPECTS APPLIQUES (10 pts)\n",
    "\n",
    "Questions relatives au travaux pratiques réalisés dans ce cours (TP).\n",
    "Le code ci-dessous (très proche de celui du TP1 de classification d'images) peut vous aider à construire vos réponses aux questions."
   ]
  },
  {
   "cell_type": "code",
   "execution_count": null,
   "metadata": {},
   "outputs": [],
   "source": [
    "import fastai\n",
    "from fastai.vision.all import untar_data, Path\n",
    "from fastai.vision.all import DataBlock, ImageBlock, CategoryBlock, RandomSplitter\n",
    "from fastai.vision.all import get_image_files, aug_transforms\n",
    "from fastai.vision.all import vision_learner, resnet50, accuracy\n",
    "nb_epochs = 3\n",
    "\n",
    "path = untar_data('http://madm.dfki.de/files/sentinel/EuroSAT.zip')\n",
    "Path.BASE_PATH = path\n",
    "\n",
    "def label_func(fname):\n",
    "    nature_classes = ['Forest', 'River', 'AnnualCrop', 'HerbaceousVegetation', 'PermanentCrop', 'SeaLake', 'Pasture']\n",
    "    if any(nc in fname.name for nc in nature_classes):\n",
    "        return 'Nature'\n",
    "    else:\n",
    "        return 'Human'\n",
    "\n",
    "blocks = DataBlock(\n",
    "  blocks = (ImageBlock, CategoryBlock),               \n",
    "  get_items = get_image_files,                        \n",
    "  splitter = RandomSplitter(valid_pct=0.2, seed=0),   \n",
    "  get_y = label_func,                                \n",
    "  batch_tfms = aug_transforms(mult=2)                 \n",
    ")\n",
    "dataloader = blocks.dataloaders(path)\n",
    "dataloader.train.show_batch(nrows=3, unique=True)\n",
    "\n",
    "model = vision_learner(dataloader, resnet50, metrics=accuracy)\n",
    "model.fine_tune(nb_epochs)\n",
    "model.export('model.pkl')"
   ]
  },
  {
   "cell_type": "markdown",
   "metadata": {},
   "source": [
    "**Question C. 1 - Compréhension de l’utilisation des modèles :** (2 pts)\n",
    "\n",
    "- Utilise t'on un modèle pré-entraînés dans le code fourni (justifiez) ?\n",
    "- Quel est l’objectif de l’utilisation des modèles pré-entraînés ?\n",
    "\n",
    "**Question C.2 - Compréhension du processus de préparation des données :** (4 pts)\n",
    "\n",
    "- Expliquez l'intérêt de la fonction `aug_transforms` (augmentations de données) de la fonction du `DataBlock` dans `fastai`.\n",
    "- Expliquez l'intérêt de la fonction `label_func` (extraction des labels des données) de la fonction du `DataBlock` dans `fastai`.\n",
    "\n",
    "**Question C.3 - Compréhension du paramètrage d'entrainement du modèle :** (2 pts)\n",
    "\n",
    "- Quel est l'ordre de grandeur du nombre de paramètres du réseau utilisé dans notre TP de classifiaction d'image ([100 - 1000], [1000 - 10 000], [10 000 - 100 000], [1 million - 5 millions], [10 millions - 50 millions]) ?\n",
    "- Quel est l'ordre de grandeur des paramètres entrainés dans notre TP ([100 - 1000], [1000 - 10 000], [10 000 - 100 000], [1 million - 5 millions], [10 millions - 50 millions]) ? \n",
    "\n",
    "**Question C.4 - Compréhension du mécanisme d'apprentissage :** (2 pts)\n",
    "\n",
    "- Qu’est-ce qu’une “epoch” dans le contexte de l’entraînement d’un modèle de Deep Learning ?"
   ]
  },
  {
   "cell_type": "markdown",
   "metadata": {},
   "source": [
    "### C. CORRECTION\n",
    "\n",
    "**Réponse question C.1**\n",
    "\n",
    "- Oui, dans le code fourni, un modèle pré-entraîné est utilisé. \n",
    "Le modèle spécifié est resnet18, qui est un modèle de réseau de neurones convolutionnels pré-entraîné sur le jeu de données ImageNet. Cela est précisé dans cette ligne : `model = vision_learner(dataloader, resnet50, metrics=accuracy)`. \n",
    "Ce modèle est ensuite ajusté (`model.fine_tune(nb_epochs)`) pour la tâche spécifique de classification des images “Nature” et “Human”.\n",
    "\n",
    "- L’objectif d’utiliser des modèles pré-entraînés, comme ici avec resnet18, est de tirer parti des connaissances déjà acquises par le modèle sur un grand jeu de données généraliste. Ces modèles ont été entraînés sur des millions d’images et ont donc appris des caractéristiques générales utiles pour la vision par ordinateur (par exemple, des bords, des textures, des motifs de formes, etc.).\n",
    "Cette approche permet donc d'obtenir des résultats efficaces avec un investissement moindre en termes de calcul et de données.\n",
    "Le “fine-tuning” permet ensuite d'adapter ce modèle pré-entrainé sur un contexte spécifique, avec de meilleures performances que si le modèle était entraîné sur un jeu de données plus petit sans pré-entraînement.\n",
    "\n",
    "**Réponse question C.2**\n",
    "\n",
    "- La fonction `aug_transforms` dans `fastai` permet de réaliser des augmentations de données sur les images pendant l’entraînement. L’augmentation de données consiste à appliquer des transformations aléatoires aux images afin de créer des versions modifiées de celles-ci. Cela aide à améliorer la robustesse et la généralisation du modèle en le rendant moins sensible à des variations spécifiques dans les données d’entraînement (par exemple, orientation, éclairage, bruit).\n",
    "\n",
    "- La fonction 'label_func' dans le 'DataBlock' est utilisée pour définir une méthode d’extraction des étiquettes (labels) associées aux images. Elle permet de déterminer à quelle catégorie chaque image appartient, en fonction de son nom de fichier ou de toute autre caractéristique du fichier.\n",
    "\n",
    "**Réponse question C.3**\n",
    "\n",
    "- `[10 millions - 50 millions]` L'ordre de grandeur du nombre de paramètres d'un réseau de neurones typique peut varier de quelques milliers à plusieurs millions, dépendant de la complexité du modèle et de la profondeur du réseau. Dans notre TP le nombre total de paramètres dans le réseau est de l'odre de **25 millions**. Ce nombre de paramètre confirme que le modèle resnet50 utilisé ici est bien un réseau profond.\n",
    "\n",
    "- `[1 million - 5 millions]` Pendant la phase de \"fine-tuning\", tous les paramètres ne sont pas nécessairement entraînés ; dans notre TP seuls un peu plus de **2 millions** de paramètres ont été entrainés.\n",
    "\n",
    "**Réponse question C.4**\n",
    "\n",
    "- Une `epoch` dans le contexte de l’entraînement d’un modèle de Deep Learning correspond à un cycle complet d’entraînement où chaque échantillon du jeu de données a été utilisé une fois pour ajuster les poids du modèle. \n",
    "Pendant l’entraînement, le modèle apprend progressivement à partir des données. Après chaque epoch, les poids du modèle sont ajustés pour réduire l’erreur. Ce processus est répété pendant plusieurs epochs. Plus le nombre d’epochs est élevé, plus le modèle a l’opportunité de s’ajuster et de converger vers des poids qui minimisent l’erreur (un trop grand nombre d’epochs peut entraîner du sur-apprentissage).\n",
    "\n"
   ]
  }
 ],
 "metadata": {
  "accelerator": "GPU",
  "colab": {
   "gpuType": "T4",
   "provenance": [],
   "toc_visible": true
  },
  "kernelspec": {
   "display_name": "Python 3",
   "name": "python3"
  },
  "language_info": {
   "codemirror_mode": {
    "name": "ipython",
    "version": 3
   },
   "file_extension": ".py",
   "mimetype": "text/x-python",
   "name": "python",
   "nbconvert_exporter": "python",
   "pygments_lexer": "ipython3",
   "version": "3.9.6"
  }
 },
 "nbformat": 4,
 "nbformat_minor": 0
}
