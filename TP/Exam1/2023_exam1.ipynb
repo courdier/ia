{
  "cells": [
    {
      "cell_type": "markdown",
      "metadata": {
        "id": "qtXl0ASQ6dFh"
      },
      "source": [
        "# **Unité d'enseignement \"Télédétection et enjeux régionaux\"**\n",
        "# Volet Appport de l'intelligence artificielle en géomatique\n",
        "# Année universitaire 2023-24, durée 30 mn\n",
        "\n",
        "---"
      ]
    },
    {
      "cell_type": "markdown",
      "metadata": {
        "id": "W4yyefqm6sxD"
      },
      "source": [
        "\n",
        "### ASPECTS GÉNÉRAUX\n",
        "\n",
        "1. **Question 1 :**\n",
        "Définissez le Machine Learning et expliquez en quoi il diffère de la programmation traditionnelle.\n",
        "\n",
        "2. **Question 2 :** \n",
        "Quelles sont les principales différences entre l'apprentissage supervisé et l'apprentissage non supervisé dans le domaine du Machine Learning ?\n",
        "\n",
        "3. **Question 3 :** \n",
        "En quoi le Deep Learning se distingue-t-il du Machine Learning classique ?\n",
        "\n",
        "\n",
        "### ASPECTS APPLIQUÉS\n",
        "\n",
        "4. **Question 4 :** \n",
        "Nommez et décrivez brièvement quatre applications du Deep Learning dans le domaine de la télédétection.\n",
        "\n",
        "5. **Question 5 :** \n",
        "Questions relatives au travail pratique (TP) :\n",
        "- Le TP s'est-il appuyé sur un modèle de Machine Learning ou de Deep Learning ? Justifiez votre réponse.\n",
        "- Quel est l'ordre de grandeur du nombre de paramètres du réseau utilisé ?\n",
        "- Lors de la phase de \"fine-tuning\", tous les paramètres sont-ils entraînés ? Expliquez.\n",
        "\n",
        "\n"
      ]
    },
    {
      "cell_type": "markdown",
      "metadata": {},
      "source": [
        "## CORRECTION"
      ]
    },
    {
      "cell_type": "markdown",
      "metadata": {},
      "source": [
        "1. **Réponse à la Question 1 :**\n",
        "\n",
        "   Le Machine Learning est un domaine de l'intelligence artificielle qui développe des algorithmes capables d'apprendre à partir de données. Contrairement à la programmation traditionnelle, où le comportement est explicitement codé, le Machine Learning permet aux algorithmes de découvrir des patterns et de prendre des décisions basées sur les données.\n",
        "\n",
        "2. **Réponse à la Question 2 :**\n",
        "\n",
        "   L'apprentissage supervisé utilise des données étiquetées pour entraîner des modèles et requiert donc la présence d'une vérité terrain, tandis que l'apprentissage non supervisé travaille avec des données non étiquetées, cherchant à identifier des patterns ou des structures sans directives spécifiques. Les méthodes d'apprentissage non-supervisé, se libèrent donc de la contrainte de la vérité terrain. Pour ces méthodes la phase d'apprentissage consiste à analyser les propriétés des données les unes par rapport aux autres. Il peut s'agir de la distance entre les données, d'un calcul de densité ou de rechercher une les paramètres d'une loi de probabilité spécifique représentant au mieux les données. Les données d'apprentissage fournissent ainsi une base pour mieux comprendre les futures données.\n",
        "\n",
        "3. **Réponse à la Question 3 :**\n",
        "\n",
        "   Le Deep Learning, une sous-catégorie du Machine Learning, se concentre sur des réseaux de neurones avec de nombreuses couches (d'où le terme \"profond\"), permettant de construire des représentations abstraites et hiérarchiques des données.\n",
        "\n",
        "4. **Réponse à la Question 4 :**\n",
        "\n",
        "   Quatre applications du Deep Learning en télédétection pourraient inclure la classification d'images satellitaires, la détection et le comptage d'objets, la classification au plus proche voisin, et la régression pour la prédiction de valeurs continues à partir d'images satellite.\n",
        "\n",
        "5. **Réponse à la Question 5 :**\n",
        "\n",
        "   - Le TP s'appuie sur un modèle de Deep Learning resnet50 de 50 couches, il s'agit bien d'un réseaux neuronaux profond.\n",
        "\n",
        "   - L'ordre de grandeur du nombre de paramètres d'un réseau de neurones typique peut varier de quelques milliers à plusieurs millions, dépendant de la complexité du modèle et de la profondeur du réseau. Dans notre TP le nombre total de paramètres dans le réseau est de l'odre de 25 millions. Ce nombre de paramètre confirme que le modèle resnet50 utilisé ici est bien un réseau profond.\n",
        "\n",
        "   - Pendant la phase de \"fine-tuning\", tous les paramètres ne sont pas nécessairement entraînés ; dans notre TP seuls un peu plus de 2 millions de paramètres ont été entrainés. En effet, le resnet50 utilise des couches pré-entraînées pour accélérer l'apprentissage et se concentrent sur l'ajustement de certaines couches finales du réseau.\n"
      ]
    }
  ],
  "metadata": {
    "accelerator": "GPU",
    "colab": {
      "gpuType": "T4",
      "provenance": [],
      "toc_visible": true
    },
    "kernelspec": {
      "display_name": "Python 3",
      "name": "python3"
    },
    "language_info": {
      "codemirror_mode": {
        "name": "ipython",
        "version": 3
      },
      "file_extension": ".py",
      "mimetype": "text/x-python",
      "name": "python",
      "nbconvert_exporter": "python",
      "pygments_lexer": "ipython3",
      "version": "3.9.6"
    }
  },
  "nbformat": 4,
  "nbformat_minor": 0
}
